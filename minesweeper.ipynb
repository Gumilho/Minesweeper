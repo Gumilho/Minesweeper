{
 "cells": [
  {
   "cell_type": "code",
   "execution_count": 1,
   "metadata": {},
   "outputs": [],
   "source": [
    "using Random\n",
    "using Images\n",
    "using FileIO"
   ]
  },
  {
   "cell_type": "code",
   "execution_count": 2,
   "metadata": {},
   "outputs": [
    {
     "data": {
      "text/plain": [
       "0-element Array{Any,1}"
      ]
     },
     "metadata": {},
     "output_type": "display_data"
    }
   ],
   "source": [
    "# Definição das constantes que serão usadas ao longo do algoritmo\n",
    "SOLUTION_BOMB = -1\n",
    "A_UNKNOWN = RGB(1,1,1)\n",
    "A_FLAG = RGB(1,0,0)\n",
    "B_UNKNOWN = 10\n",
    "B_FLAG = -1\n",
    "\n",
    "# Variavel auxiliar para exportar as imagens\n",
    "# image_index = 1\n",
    "images = []\n"
   ]
  },
  {
   "cell_type": "code",
   "execution_count": 9,
   "metadata": {},
   "outputs": [
    {
     "data": {
      "text/plain": [
       "all_cells (generic function with 1 method)"
      ]
     },
     "metadata": {},
     "output_type": "display_data"
    }
   ],
   "source": [
    "Base.to_index(A, p::Tuple) = (p[2]-1) * size(A, 1) + p[1]\n",
    "Base.:+(p::Tuple, q::Tuple)::Tuple = (p[1] + q[1], p[2] + q[2])\n",
    "\n",
    "in_bounds(p::Tuple, height, width) = 1 <= p[1] <= height && 1 <= p[2] <= width\n",
    "neighborhood(p::Tuple, it, width, height) = filter(p -> in_bounds(p, width, height), map(dp -> p + dp, it))\n",
    "moore(p::Tuple, width, height) = neighborhood(p, Iterators.product(-1:1, -1:1), width, height)\n",
    "moore_expanded(p::Tuple, width, height) = neighborhood(p, Iterators.product(-2:2, -2:2), width, height)\n",
    "all_cells(height, width) = Iterators.product(1:height, 1:width)"
   ]
  },
  {
   "cell_type": "code",
   "execution_count": 4,
   "metadata": {},
   "outputs": [
    {
     "data": {
      "text/plain": [
       "expand_image (generic function with 1 method)"
      ]
     },
     "metadata": {},
     "output_type": "display_data"
    }
   ],
   "source": [
    "function expand_image(image, scale)\n",
    "\twidth, height = size(image)\n",
    "\tnew_width = width * scale\n",
    "\tnew_height = height * scale\n",
    "\n",
    "\texpanded_image = fill(A_UNKNOWN,new_width, new_height)\n",
    "\n",
    "\tfor x in 1:width, y in 1:height\n",
    "\t\texpanded_image[(x-1)*scale+1:x*scale, (y-1)*scale+1:y*scale] .= image[x,y]\n",
    "\tend\n",
    "\treturn expanded_image\n",
    "end"
   ]
  },
  {
   "cell_type": "code",
   "execution_count": 5,
   "metadata": {},
   "outputs": [
    {
     "data": {
      "text/plain": [
       "toggle (generic function with 1 method)"
      ]
     },
     "metadata": {},
     "output_type": "display_data"
    }
   ],
   "source": [
    "# Aqui são as funções para implementar o jogo campo minado\n",
    "\n",
    "function init(bombs, width, height)\n",
    "\t\n",
    "\tsolution = zeros(Int, width, height)\n",
    "\tindices = randperm(height*width)[1:bombs]\n",
    "\tsolution[indices] .= SOLUTION_BOMB\n",
    "\tfor p in all_cells(width, height)\n",
    "\t\tif solution[p] == SOLUTION_BOMB\n",
    "\t\t\tcontinue\n",
    "\t\tend\n",
    "\t\tsolution[p] = count(q -> solution[q] == SOLUTION_BOMB, moore(p, width, height))\n",
    "\tend\n",
    "\treturn solution\n",
    "end\n",
    "\n",
    "function hit(A, solution, p)\n",
    "\twidth, height = size(A)\n",
    "\t\n",
    "\t# Se tentar clicar na célula que já foi clicada, a função para\n",
    "\tif !(A[p] in [A_UNKNOWN, A_FLAG])\n",
    "\t\treturn A\n",
    "\tend\n",
    "\n",
    "\t# Se a célula tiver valor 0, clica nas células da vizinhança\n",
    "\tif solution[p] == SOLUTION_BOMB\n",
    "\t\t# display(solution)\n",
    "\t\terror(\"game over\")\n",
    "\telse\n",
    "\t\tvalue = solution[p]/10\n",
    "\t\tA[p] = RGB(value, value, value)\n",
    "\t\tif solution[p] == 0\n",
    "\t\t\tfor q in moore(p, width, height)\n",
    "\t\t\t\tA = hit(A, solution, q)\n",
    "\t\t\tend\n",
    "\t\tend\n",
    "\tend\n",
    "\treturn A\n",
    "end\n",
    "\n",
    "function flag(A, solution, p)\n",
    "\t# display(\"flag $c\")\n",
    "\tif A[p] == A_UNKNOWN\n",
    "\t\tA[p] = A_FLAG\n",
    "\tend\n",
    "\treturn A\n",
    "end\n",
    "\n",
    "function toggle(A, solution, p)\n",
    "\tif A[p] == A_UNKNOWN\n",
    "\t\tA[p] = A_FLAG\n",
    "\telseif A[p] == A_FLAG\n",
    "\t\tA[p] = A_UNKNOWN\n",
    "\tend\n",
    "\treturn A\n",
    "end"
   ]
  },
  {
   "cell_type": "code",
   "execution_count": 6,
   "metadata": {},
   "outputs": [
    {
     "data": {
      "text/plain": [
       "is_solved (generic function with 1 method)"
      ]
     },
     "metadata": {},
     "output_type": "display_data"
    }
   ],
   "source": [
    "function A_to_B(A)\n",
    "\twidth, height = size(A)\n",
    "\tB = zeros(width, height)\n",
    "\tfor p in all_cells(width, height)\n",
    "\t\tif A[p] == A_FLAG\n",
    "\t\t\tB[p] = B_FLAG\n",
    "\t\telse\n",
    "\t\t\tB[p] = round(A[p].r * 10)\n",
    "\t\tend\n",
    "\tend\n",
    "\t\n",
    "\treturn B\n",
    "end\n",
    "\n",
    "function neighbors(p, B)\n",
    "\twidth, height = size(B)\n",
    "    return filter(q -> B[q] in [B_UNKNOWN, B_FLAG], moore(p, width, height))\n",
    "end\n",
    "\n",
    "function flagged_neighbors(p, B)\n",
    "\twidth, height = size(B)\n",
    "    return filter(q -> B[q] == B_FLAG, moore(p, width, height))\n",
    "end\n",
    "\n",
    "function non_flagged_neighbors(p, B)\n",
    "\twidth, height = size(B)\n",
    "    return filter(q -> B[q] == B_UNKNOWN, moore(p, width, height))\n",
    "end\n",
    "\n",
    "function is_solved(B, bombs)\n",
    "    return count(B .!= B_FLAG) == bombs || all(B .!= B_UNKNOWN)\n",
    "end"
   ]
  },
  {
   "cell_type": "code",
   "execution_count": 15,
   "metadata": {},
   "outputs": [
    {
     "data": {
      "text/plain": [
       "solve_with_set (generic function with 2 methods)"
      ]
     },
     "metadata": {},
     "output_type": "display_data"
    }
   ],
   "source": [
    "\n",
    "function solve_no_set(A, solution, bombs)\n",
    "\tB = A_to_B(A)\n",
    "\twidth, height = size(A)\n",
    "\twhile !is_solved(B, bombs)\n",
    "\t\told_A = copy(A)\n",
    "\t\tfor p in all_cells(width, height)\n",
    "\t\t\tif B[p] in [0, B_UNKNOWN]\n",
    "\t\t\t\tcontinue\n",
    "\t\t\tend\n",
    "\t\t\tn = neighbors(p, B)\n",
    "\t\t\tif round(B[p]) == length(n)\n",
    "\t\t\t\tfor q in n\n",
    "\t\t\t\t\tif B[q] == B_UNKNOWN\n",
    "\t\t\t\t\t\tA = flag(A, solution, q)\n",
    "\t\t\t\t\t\tB = A_to_B(A)\n",
    "\t\t\t\t\t\tpush!(images, copy(A));\n",
    "\t\t\t\t\tend\n",
    "\t\t\t\tend\n",
    "\t\t\tend\n",
    "\n",
    "\t\t\tfn = flagged_neighbors(p, B)\n",
    "\t\t\tnfn = non_flagged_neighbors(p, B)\n",
    "\n",
    "\t\t\tif round(B[p]) == length(fn)\n",
    "\t\t\t\tfor q in nfn\n",
    "\t\t\t\t\tif B[q] == B_UNKNOWN\n",
    "\t\t\t\t\t\tA = hit(A, solution, q)\n",
    "\t\t\t\t\t\tB = A_to_B(A)\n",
    "\t\t\t\t\t\tpush!(images, copy(A));\n",
    "\t\t\t\t\tend\n",
    "\t\t\t\tend\n",
    "\t\t\tend\n",
    "\t\tend\n",
    "\t\t# Se nenhuma celula foi alterada, entao clicamos numa celula desconhecida as cegas\n",
    "\t\tif old_A == A\n",
    "\t\t\tfor p in all_cells(width, height)\n",
    "\t\t\t\tif B[p] == B_UNKNOWN\n",
    "\t\t\t\t\tA = hit(A, solution, p)\n",
    "\t\t\t\t\tB = A_to_B(A)\n",
    "\t\t\t\t\tpush!(images, copy(A));\n",
    "\t\t\t\t\tbreak\n",
    "\t\t\t\tend\n",
    "\t\t\tend\n",
    "\t\tend\n",
    "\tend\n",
    "\treturn A\n",
    "end\n",
    "\n",
    "\n",
    "function solve_with_set(A, solution, bombs)\n",
    "\tB = A_to_B(A)\n",
    "\twidth, height = size(A)\n",
    "\twhile !is_solved(B, bombs)\n",
    "\t\told_A = copy(A)\n",
    "\t\tfor p in all_cells(width, height)\n",
    "\t\t\tif B[p] in [0, B_UNKNOWN]\n",
    "\t\t\t\tcontinue\n",
    "\t\t\tend\n",
    "\t\t\tn = neighbors(p, B)\n",
    "\t\t\tif round(B[p]) == length(n)\n",
    "\t\t\t\tfor q in n\n",
    "\t\t\t\t\tif B[q] == B_UNKNOWN\n",
    "\t\t\t\t\t\tA = flag(A, solution, q)\n",
    "\t\t\t\t\t\tB = A_to_B(A)\n",
    "\t\t\t\t\t\tpush!(images, copy(A));\n",
    "\t\t\t\t\tend\n",
    "\t\t\t\tend\n",
    "\t\t\tend\n",
    "\n",
    "\t\t\tfn = flagged_neighbors(p, B)\n",
    "\t\t\tnfn = non_flagged_neighbors(p, B)\n",
    "\n",
    "\t\t\tif round(B[p]) == length(fn)\n",
    "\t\t\t\tfor q in nfn\n",
    "\t\t\t\t\tif B[q] == B_UNKNOWN\n",
    "\t\t\t\t\t\tA = hit(A, solution, q)\n",
    "\t\t\t\t\t\tB = A_to_B(A)\n",
    "\t\t\t\t\t\tpush!(images, copy(A));\n",
    "\t\t\t\t\tend\n",
    "\t\t\t\tend\n",
    "\t\t\tend\n",
    "\t\tend\n",
    "\t\tfor p in all_cells(width, height)\n",
    "\t\t\t\t\n",
    "\t\t\tif B[p] in [0, B_UNKNOWN]\n",
    "\t\t\t\tcontinue\n",
    "\t\t\tend\n",
    "\t\t\tnfn_a = non_flagged_neighbors(p, B)\n",
    "\t\t\tfn_a = flagged_neighbors(p, B)\n",
    "\t\t\ta_value = B[p] - length(fn_a)\n",
    "\t\t\t\n",
    "\t\t\tfor q in moore_expanded(p, width, height)\n",
    "\t\t\t\t\n",
    "\t\t\t\tif B[q] in [0, B_UNKNOWN]\n",
    "\t\t\t\t\tcontinue\n",
    "\t\t\t\tend\n",
    "\t\t\t\tnfn_b = non_flagged_neighbors(q, B)\n",
    "\t\t\t\tfn_b = flagged_neighbors(q, B)\n",
    "\t\t\t\tb_value = B[q] - length(fn_b)\n",
    "\t\t\t\tif a_value - b_value == length(setdiff(nfn_a, nfn_b))\n",
    "\t\t\t\t\tfor r in setdiff(nfn_a, nfn_b)\n",
    "\t\t\t\t\t\tif B[r] == B_UNKNOWN\n",
    "\t\t\t\t\t\t\tA = flag(A, solution, r)\n",
    "\t\t\t\t\t\t\tB = A_to_B(A)\n",
    "\t\t\t\t\t\t\tpush!(images, copy(A));\n",
    "\t\t\t\t\t\tend\n",
    "\t\t\t\t\tend\n",
    "\t\t\t\t\tfor r in setdiff(nfn_b, nfn_a)\n",
    "\t\t\t\t\t\tif B[r] == B_UNKNOWN\n",
    "\t\t\t\t\t\t\tA = hit(A, solution, r)\n",
    "\t\t\t\t\t\t\tB = A_to_B(A)\n",
    "\t\t\t\t\t\t\tpush!(images, copy(A));\n",
    "\t\t\t\t\t\tend\n",
    "\t\t\t\t\tend\n",
    "\t\t\t\tend\n",
    "\t\t\tend\n",
    "\t\tend\n",
    "\n",
    "\t\t# Se nenhuma celula foi alterada, entao clicamos numa celula desconhecida as cegas\n",
    "\t\tif old_A == A\n",
    "\t\t\tfor p in all_cells(width, height)\n",
    "\t\t\t\tif B[p] == B_UNKNOWN\n",
    "\t\t\t\t\tA = hit(A, solution, p)\n",
    "\t\t\t\t\tB = A_to_B(A)\n",
    "\t\t\t\t\tpush!(images, copy(A));\n",
    "\t\t\t\t\tbreak\n",
    "\t\t\t\tend\n",
    "\t\t\tend\n",
    "\t\tend\n",
    "\tend\n",
    "\treturn A\n",
    "end\n",
    "\n",
    "\n",
    "\n"
   ]
  },
  {
   "cell_type": "code",
   "execution_count": 21,
   "metadata": {},
   "outputs": [
    {
     "name": "stdout",
     "output_type": "stream",
     "text": [
      "Caso (8, 8, 10) com densidade 15.62%\n"
     ]
    },
    {
     "name": "stdout",
     "output_type": "stream",
     "text": [
      "Chance de sucesso básico: 34.4%\n",
      "Chance de sucesso avançado: 42.1%\n",
      "\n",
      "Caso (16, 16, 40) com densidade 15.62%\n"
     ]
    },
    {
     "name": "stdout",
     "output_type": "stream",
     "text": [
      "Chance de sucesso básico: 26.2%\n",
      "Chance de sucesso avançado: 28.7%\n",
      "\n",
      "Caso (30, 16, 99) com densidade 20.62%\n"
     ]
    },
    {
     "name": "stdout",
     "output_type": "stream",
     "text": [
      "Chance de sucesso básico: 0.9%\n",
      "Chance de sucesso avançado: 0.9%\n",
      "\n"
     ]
    }
   ],
   "source": [
    "# solution = [\n",
    "#   0  0  0   0   0  0  0   1  -1  1;\n",
    "#   1  1  0   0   0  0  0   1   1  1;\n",
    "#  -1  1  1   1   1  0  1   1   1  0;\n",
    "#   1  1  1  -1   2  1  1  -1   1  0;\n",
    "#   0  0  1   2  -1  1  1   1   1  0\n",
    "# ];\n",
    "NUMBER_OF_TESTS = 1000\n",
    "for instance in [(8,8,10), (16,16,40), (30,16,99)]\n",
    "  width, height, bombs = instance\n",
    "  print(\"Caso $instance com densidade \")\n",
    "  print(round(bombs/(width*height)*100, digits=2))\n",
    "  println(\"%\")\n",
    "  counter_no_set = 0\n",
    "  counter_with_set = 0\n",
    "\n",
    "  for i in 1:NUMBER_OF_TESTS\n",
    "    solution = init(bombs, width, height)\n",
    "    images = []\n",
    "    A = fill(A_UNKNOWN, size(solution))\n",
    "    push!(images, copy(A))\n",
    "    try\n",
    "      A = solve_no_set(A, solution, bombs)\n",
    "    catch e\n",
    "      counter_no_set += 1\n",
    "    end\n",
    "    try\n",
    "      A = solve_with_set(A, solution, bombs)\n",
    "    catch e\n",
    "      counter_with_set += 1\n",
    "    end\n",
    "  end\n",
    "  print(\"Chance de sucesso básico: \")\n",
    "  print(round((NUMBER_OF_TESTS-counter_no_set)/NUMBER_OF_TESTS*100, digits=2))\n",
    "  println(\"%\")\n",
    "  print(\"Chance de sucesso avançado: \")\n",
    "  print(round((NUMBER_OF_TESTS-counter_with_set)/NUMBER_OF_TESTS*100, digits=2))\n",
    "  println(\"%\\n\")\n",
    "\n",
    "end\n"
   ]
  }
 ],
 "metadata": {
  "kernelspec": {
   "display_name": "Julia 1.4.1",
   "language": "julia",
   "name": "julia-1.4"
  },
  "language_info": {
   "file_extension": ".jl",
   "mimetype": "application/julia",
   "name": "julia",
   "version": "1.4.1"
  },
  "orig_nbformat": 4
 },
 "nbformat": 4,
 "nbformat_minor": 2
}
